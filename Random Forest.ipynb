{
 "cells": [
  {
   "cell_type": "code",
   "execution_count": 1,
   "id": "41151c84-65ba-4082-974c-e81f1da07a4f",
   "metadata": {},
   "outputs": [],
   "source": [
    "#tree1\n",
    "#tree 2\n",
    "#-\n",
    "#tree n "
   ]
  },
  {
   "cell_type": "code",
   "execution_count": 2,
   "id": "ec974e9d-0012-4132-bc0f-2ab159bb2460",
   "metadata": {},
   "outputs": [],
   "source": [
    "from sklearn import datasets"
   ]
  },
  {
   "cell_type": "code",
   "execution_count": 3,
   "id": "df97c799-c657-43cd-830e-974d06fd8e96",
   "metadata": {},
   "outputs": [],
   "source": [
    "iris=datasets.load_iris()"
   ]
  },
  {
   "cell_type": "code",
   "execution_count": 4,
   "id": "1a1fe7cc-94a5-49c8-88b6-bc84025f80fb",
   "metadata": {},
   "outputs": [],
   "source": [
    "X = iris.data"
   ]
  },
  {
   "cell_type": "code",
   "execution_count": 5,
   "id": "dbdf6981-ceeb-439d-becf-25dce7950efb",
   "metadata": {},
   "outputs": [],
   "source": [
    "y= iris.target"
   ]
  },
  {
   "cell_type": "code",
   "execution_count": 6,
   "id": "d9981f50-371c-4256-8d77-ec7fb739023c",
   "metadata": {},
   "outputs": [],
   "source": [
    "from sklearn.ensemble import RandomForestClassifier"
   ]
  },
  {
   "cell_type": "code",
   "execution_count": 9,
   "id": "ab4d55d6-16c2-4a8b-a152-8dc1e87d39a3",
   "metadata": {},
   "outputs": [],
   "source": [
    "rf=RandomForestClassifier(random_state=0)"
   ]
  },
  {
   "cell_type": "code",
   "execution_count": 10,
   "id": "98f902b5-d7e4-4248-8a5d-52d2852936cf",
   "metadata": {},
   "outputs": [
    {
     "data": {
      "text/plain": [
       "RandomForestClassifier(random_state=0)"
      ]
     },
     "execution_count": 10,
     "metadata": {},
     "output_type": "execute_result"
    }
   ],
   "source": [
    "rf.fit(X,y)"
   ]
  },
  {
   "cell_type": "code",
   "execution_count": 11,
   "id": "56d81a10-ad0c-43e9-b9b7-9c27a5c554cc",
   "metadata": {},
   "outputs": [],
   "source": [
    "from sklearn.model_selection import train_test_split"
   ]
  },
  {
   "cell_type": "code",
   "execution_count": 12,
   "id": "211baae1-f7c8-41a6-907b-171a5332a7d2",
   "metadata": {},
   "outputs": [],
   "source": [
    "x_tr,x_te,y_tr,y_te = train_test_split(X,y,test_size=0.20)"
   ]
  },
  {
   "cell_type": "code",
   "execution_count": 22,
   "id": "7db895cf-0460-45bb-b8e1-7651344e2974",
   "metadata": {},
   "outputs": [
    {
     "data": {
      "text/plain": [
       "array([2, 2, 0, 1, 2, 2, 1, 1, 0, 1, 2, 0, 2, 2, 2, 2, 0, 1, 0, 0, 1, 2,\n",
       "       0, 2, 2, 0, 0, 1, 1, 1])"
      ]
     },
     "execution_count": 22,
     "metadata": {},
     "output_type": "execute_result"
    }
   ],
   "source": [
    "y_pr=rf.predict(x_te)\n",
    "y_pr"
   ]
  },
  {
   "cell_type": "code",
   "execution_count": 23,
   "id": "d77e2e09-ead5-4d39-9906-c9bd3fcd175c",
   "metadata": {},
   "outputs": [
    {
     "data": {
      "text/plain": [
       "array([2, 2, 0, 1, 2, 2, 1, 1, 0, 1, 2, 0, 2, 2, 2, 2, 0, 1, 0, 0, 1, 2,\n",
       "       0, 2, 2, 0, 0, 1, 1, 1])"
      ]
     },
     "execution_count": 23,
     "metadata": {},
     "output_type": "execute_result"
    }
   ],
   "source": [
    "y_te"
   ]
  },
  {
   "cell_type": "code",
   "execution_count": 24,
   "id": "aff1b75b-9bb6-4ea0-a355-9e909baa3d4f",
   "metadata": {},
   "outputs": [],
   "source": [
    "from sklearn.metrics import accuracy_score"
   ]
  },
  {
   "cell_type": "code",
   "execution_count": 26,
   "id": "00321ec6-b794-49b7-a291-1af0639b7c19",
   "metadata": {},
   "outputs": [
    {
     "data": {
      "text/plain": [
       "1.0"
      ]
     },
     "execution_count": 26,
     "metadata": {},
     "output_type": "execute_result"
    }
   ],
   "source": [
    "accuracy_score(y_te,y_pr)"
   ]
  },
  {
   "cell_type": "code",
   "execution_count": 27,
   "id": "27b603ec-2a2b-463f-a672-92a6338d3e6f",
   "metadata": {},
   "outputs": [],
   "source": [
    "# random forest better perform krta hai decision trees individually perform  krne se "
   ]
  },
  {
   "cell_type": "code",
   "execution_count": 1,
   "id": "cf405d3c-a76e-4071-8c15-47eef34f416d",
   "metadata": {},
   "outputs": [
    {
     "data": {
      "text/plain": [
       "0.9181"
      ]
     },
     "execution_count": 1,
     "metadata": {},
     "output_type": "execute_result"
    }
   ],
   "source": [
    "1-(0.3*0.7*0.6*0.65)"
   ]
  },
  {
   "cell_type": "code",
   "execution_count": null,
   "id": "364c0538-cf21-44cf-882d-213b901cd1d6",
   "metadata": {},
   "outputs": [],
   "source": []
  }
 ],
 "metadata": {
  "kernelspec": {
   "display_name": "Python 3 (ipykernel)",
   "language": "python",
   "name": "python3"
  },
  "language_info": {
   "codemirror_mode": {
    "name": "ipython",
    "version": 3
   },
   "file_extension": ".py",
   "mimetype": "text/x-python",
   "name": "python",
   "nbconvert_exporter": "python",
   "pygments_lexer": "ipython3",
   "version": "3.9.12"
  }
 },
 "nbformat": 4,
 "nbformat_minor": 5
}
